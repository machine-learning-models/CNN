{
 "cells": [
  {
   "cell_type": "code",
   "execution_count": 1,
   "id": "45e1290b",
   "metadata": {},
   "outputs": [],
   "source": [
    "import gzip\n",
    "import os\n",
    "\n",
    "import matplotlib.pyplot as plt\n",
    "import numpy as np\n",
    "import pandas as pd\n",
    "\n",
    "from keras.utils import to_categorical\n",
    "\n",
    "from keras.models import Sequential\n",
    "\n",
    "from keras.layers import Dense, Conv2D,Flatten\n",
    "\n"
   ]
  },
  {
   "cell_type": "code",
   "execution_count": 2,
   "id": "548eef9a",
   "metadata": {},
   "outputs": [],
   "source": [
    "def open_images(filename):\n",
    "    with gzip.open(filename, 'rb') as file:\n",
    "        data = file.read()\n",
    "        return np.frombuffer(data, dtype='uint8',offset=16)\\\n",
    "        .reshape(-1,28,28)\\\n",
    "        .astype(np.float32)\n",
    "\n",
    "def open_labels(filename):\n",
    "    with gzip.open(filename,'rb') as file:\n",
    "        data = file.read()\n",
    "        return np.frombuffer(data,  dtype='uint8', offset=8)\n"
   ]
  },
  {
   "cell_type": "code",
   "execution_count": 3,
   "id": "0410c8e6",
   "metadata": {},
   "outputs": [
    {
     "name": "stdout",
     "output_type": "stream",
     "text": [
      "X_train.shape: (60000, 28, 28)\n",
      "y_train.shape: (60000,)\n",
      "X_test.shape: (10000, 28, 28)\n",
      "y_test.shape: (10000,)\n"
     ]
    }
   ],
   "source": [
    "my_path = str.replace(r'C:\\Users\\Office\\data\\fashionmnist', '\\\\','/')\n",
    "X_train = open_images('./data/fashionmnist/train-images-idx3-ubyte.gz')\n",
    "y_train = open_labels('./data/fashionmnist/train-labels-idx1-ubyte.gz')\n",
    "\n",
    "X_test = open_images('./data/fashionmnist/t10k-images-idx3-ubyte.gz')\n",
    "y_test = open_labels('./data/fashionmnist/t10k-labels-idx1-ubyte.gz')\n",
    "\n",
    "print(f'X_train.shape: {X_train.shape}')\n",
    "print(f'y_train.shape: {y_train.shape}')\n",
    "\n",
    "print(f'X_test.shape: {X_test.shape}')\n",
    "print(f'y_test.shape: {y_test.shape}')\n",
    "\n",
    "y_train = to_categorical(y_train)\n",
    "y_test = to_categorical(y_test)"
   ]
  },
  {
   "cell_type": "code",
   "execution_count": 4,
   "id": "847cc8fb",
   "metadata": {},
   "outputs": [],
   "source": [
    "model = Sequential()\n",
    "\n",
    "model.add(Conv2D(10, kernel_size=(3,3), activation = 'relu', input_shape=(28,28,1) ))\n",
    "model.add(Flatten())\n",
    "model.add(Dense(10, activation = 'softmax'))\n",
    "\n",
    "model.compile(optimizer = 'rmsprop', loss='categorical_crossentropy', metrics=['accuracy'])"
   ]
  },
  {
   "cell_type": "code",
   "execution_count": 5,
   "id": "a787c421",
   "metadata": {},
   "outputs": [
    {
     "name": "stdout",
     "output_type": "stream",
     "text": [
      "Epoch 1/10\n",
      "60/60 [==============================] - 4s 65ms/step - loss: 16.4368 - accuracy: 0.6919\n",
      "Epoch 2/10\n",
      "60/60 [==============================] - 4s 62ms/step - loss: 2.2030 - accuracy: 0.8118\n",
      "Epoch 3/10\n",
      "60/60 [==============================] - 4s 61ms/step - loss: 0.8950 - accuracy: 0.8403\n",
      "Epoch 4/10\n",
      "60/60 [==============================] - 4s 72ms/step - loss: 0.4777 - accuracy: 0.8623\n",
      "Epoch 5/10\n",
      "60/60 [==============================] - 5s 75ms/step - loss: 0.3496 - accuracy: 0.8834\n",
      "Epoch 6/10\n",
      "60/60 [==============================] - 5s 75ms/step - loss: 0.2880 - accuracy: 0.8994\n",
      "Epoch 7/10\n",
      "60/60 [==============================] - 5s 77ms/step - loss: 0.2507 - accuracy: 0.9102\n",
      "Epoch 8/10\n",
      "60/60 [==============================] - 4s 74ms/step - loss: 0.2281 - accuracy: 0.9149\n",
      "Epoch 9/10\n",
      "60/60 [==============================] - 5s 76ms/step - loss: 0.2087 - accuracy: 0.9237\n",
      "Epoch 10/10\n",
      "60/60 [==============================] - 4s 74ms/step - loss: 0.1940 - accuracy: 0.9281\n"
     ]
    },
    {
     "data": {
      "text/plain": [
       "<tensorflow.python.keras.callbacks.History at 0x1a7c5742a90>"
      ]
     },
     "execution_count": 5,
     "metadata": {},
     "output_type": "execute_result"
    }
   ],
   "source": [
    "model.fit(X_train.reshape(60000,28,28,1),\n",
    "         y_train, \n",
    "         epochs=10,\n",
    "         batch_size=1000\n",
    "         )"
   ]
  },
  {
   "cell_type": "code",
   "execution_count": 6,
   "id": "de5a7b37",
   "metadata": {},
   "outputs": [
    {
     "data": {
      "text/plain": [
       "[<tensorflow.python.keras.layers.convolutional.Conv2D at 0x1a7c140d7f0>,\n",
       " <tensorflow.python.keras.layers.core.Flatten at 0x1a7c1429df0>,\n",
       " <tensorflow.python.keras.layers.core.Dense at 0x1a7c139c400>]"
      ]
     },
     "execution_count": 6,
     "metadata": {},
     "output_type": "execute_result"
    }
   ],
   "source": [
    "model.layers"
   ]
  },
  {
   "cell_type": "code",
   "execution_count": 7,
   "id": "f2527396",
   "metadata": {},
   "outputs": [
    {
     "data": {
      "text/plain": [
       "[<tf.Variable 'conv2d/kernel:0' shape=(3, 3, 1, 10) dtype=float32, numpy=\n",
       " array([[[[-1.22569226e-01, -2.40294665e-01,  6.28740340e-02,\n",
       "           -1.04138441e-01,  1.22985400e-01, -1.48368850e-01,\n",
       "           -1.50251180e-01, -5.18000238e-02,  5.40789329e-02,\n",
       "           -2.60759205e-01]],\n",
       " \n",
       "         [[-1.49549097e-01,  1.01606138e-01,  1.41611847e-04,\n",
       "            7.91546181e-02, -1.87733900e-02, -9.70408693e-02,\n",
       "           -2.11489841e-01,  2.17193412e-03, -1.38711661e-01,\n",
       "           -1.30090117e-01]],\n",
       " \n",
       "         [[-1.44568598e-02, -2.21200809e-01,  9.57074482e-03,\n",
       "            5.63427135e-02, -1.86974540e-01, -4.60883602e-02,\n",
       "           -8.50639790e-02,  9.07020569e-02,  8.58252272e-02,\n",
       "           -1.12923622e-01]]],\n",
       " \n",
       " \n",
       "        [[[ 1.54344961e-01, -6.29392341e-02, -9.08937603e-02,\n",
       "           -1.18818149e-01, -5.47426865e-02, -1.61778495e-01,\n",
       "           -1.59096003e-01, -1.34759143e-01,  2.58634631e-02,\n",
       "           -3.90291288e-02]],\n",
       " \n",
       "         [[ 2.76997909e-02, -3.12500447e-02, -2.15399012e-01,\n",
       "            5.64084463e-02,  1.36680588e-01,  1.03247941e-01,\n",
       "            1.70057103e-01,  4.03353870e-02, -1.05150998e-01,\n",
       "            8.43432248e-02]],\n",
       " \n",
       "         [[-1.72123730e-01, -9.99779254e-02, -3.63403894e-02,\n",
       "           -7.38805011e-02, -2.87155677e-02,  2.38628928e-02,\n",
       "           -5.96365668e-02,  2.83570159e-02, -3.82088311e-02,\n",
       "            7.95600265e-02]]],\n",
       " \n",
       " \n",
       "        [[[-3.31349373e-02,  1.36714242e-02,  1.87789649e-02,\n",
       "            1.39727086e-01, -1.47809058e-01, -8.11136067e-02,\n",
       "            1.39194667e-01, -1.74527571e-01, -1.26750516e-02,\n",
       "            5.16309813e-02]],\n",
       " \n",
       "         [[-1.50996417e-01,  1.26658902e-02, -2.76837889e-02,\n",
       "           -1.74592271e-01, -6.28114119e-02,  1.35834783e-01,\n",
       "           -1.64184719e-01, -1.12039536e-01, -3.94119322e-02,\n",
       "           -1.38934076e-01]],\n",
       " \n",
       "         [[ 1.30101800e-01,  5.23982495e-02,  1.28111690e-02,\n",
       "           -6.17596693e-02, -1.37611628e-01, -1.04099289e-01,\n",
       "            3.94390337e-02, -9.54463258e-02, -4.49559502e-02,\n",
       "            3.09058391e-02]]]], dtype=float32)>,\n",
       " <tf.Variable 'conv2d/bias:0' shape=(10,) dtype=float32, numpy=\n",
       " array([-0.00057175,  0.0048148 , -0.20878586, -0.00126499, -0.00245128,\n",
       "        -0.05379713, -0.00175546, -0.02686369, -0.09581376, -0.18173258],\n",
       "       dtype=float32)>]"
      ]
     },
     "execution_count": 7,
     "metadata": {},
     "output_type": "execute_result"
    }
   ],
   "source": [
    "model.layers[0].weights"
   ]
  },
  {
   "cell_type": "code",
   "execution_count": 8,
   "id": "17a3ca0f",
   "metadata": {},
   "outputs": [
    {
     "data": {
      "text/plain": [
       "<tf.Variable 'conv2d/kernel:0' shape=(3, 3, 1, 10) dtype=float32, numpy=\n",
       "array([[[[-1.22569226e-01, -2.40294665e-01,  6.28740340e-02,\n",
       "          -1.04138441e-01,  1.22985400e-01, -1.48368850e-01,\n",
       "          -1.50251180e-01, -5.18000238e-02,  5.40789329e-02,\n",
       "          -2.60759205e-01]],\n",
       "\n",
       "        [[-1.49549097e-01,  1.01606138e-01,  1.41611847e-04,\n",
       "           7.91546181e-02, -1.87733900e-02, -9.70408693e-02,\n",
       "          -2.11489841e-01,  2.17193412e-03, -1.38711661e-01,\n",
       "          -1.30090117e-01]],\n",
       "\n",
       "        [[-1.44568598e-02, -2.21200809e-01,  9.57074482e-03,\n",
       "           5.63427135e-02, -1.86974540e-01, -4.60883602e-02,\n",
       "          -8.50639790e-02,  9.07020569e-02,  8.58252272e-02,\n",
       "          -1.12923622e-01]]],\n",
       "\n",
       "\n",
       "       [[[ 1.54344961e-01, -6.29392341e-02, -9.08937603e-02,\n",
       "          -1.18818149e-01, -5.47426865e-02, -1.61778495e-01,\n",
       "          -1.59096003e-01, -1.34759143e-01,  2.58634631e-02,\n",
       "          -3.90291288e-02]],\n",
       "\n",
       "        [[ 2.76997909e-02, -3.12500447e-02, -2.15399012e-01,\n",
       "           5.64084463e-02,  1.36680588e-01,  1.03247941e-01,\n",
       "           1.70057103e-01,  4.03353870e-02, -1.05150998e-01,\n",
       "           8.43432248e-02]],\n",
       "\n",
       "        [[-1.72123730e-01, -9.99779254e-02, -3.63403894e-02,\n",
       "          -7.38805011e-02, -2.87155677e-02,  2.38628928e-02,\n",
       "          -5.96365668e-02,  2.83570159e-02, -3.82088311e-02,\n",
       "           7.95600265e-02]]],\n",
       "\n",
       "\n",
       "       [[[-3.31349373e-02,  1.36714242e-02,  1.87789649e-02,\n",
       "           1.39727086e-01, -1.47809058e-01, -8.11136067e-02,\n",
       "           1.39194667e-01, -1.74527571e-01, -1.26750516e-02,\n",
       "           5.16309813e-02]],\n",
       "\n",
       "        [[-1.50996417e-01,  1.26658902e-02, -2.76837889e-02,\n",
       "          -1.74592271e-01, -6.28114119e-02,  1.35834783e-01,\n",
       "          -1.64184719e-01, -1.12039536e-01, -3.94119322e-02,\n",
       "          -1.38934076e-01]],\n",
       "\n",
       "        [[ 1.30101800e-01,  5.23982495e-02,  1.28111690e-02,\n",
       "          -6.17596693e-02, -1.37611628e-01, -1.04099289e-01,\n",
       "           3.94390337e-02, -9.54463258e-02, -4.49559502e-02,\n",
       "           3.09058391e-02]]]], dtype=float32)>"
      ]
     },
     "execution_count": 8,
     "metadata": {},
     "output_type": "execute_result"
    }
   ],
   "source": [
    "# tensorflow Variable\n",
    "# da das Modelauf der Graphikkarte ausgeführt werde könnten\n",
    "model.layers[0].weights[0]"
   ]
  },
  {
   "cell_type": "code",
   "execution_count": 9,
   "id": "cb38c2ee",
   "metadata": {},
   "outputs": [
    {
     "data": {
      "text/plain": [
       "array([[-0.12256923, -0.1495491 , -0.01445686],\n",
       "       [ 0.15434496,  0.02769979, -0.17212373],\n",
       "       [-0.03313494, -0.15099642,  0.1301018 ]], dtype=float32)"
      ]
     },
     "execution_count": 9,
     "metadata": {},
     "output_type": "execute_result"
    }
   ],
   "source": [
    "import keras.backend as K\n",
    "\n",
    "# tensorflow Variable\n",
    "# da das Modelauf der Graphikkarte ausgeführt werde könnten\n",
    "# müssen wir diese erst auf die CPU ruterladen \n",
    "\n",
    "data = K.eval( model.layers[0].weights[0] )\n",
    "\n",
    "# Zugriff auf die ersten Gewichte unserer Filter\n",
    "\n",
    "data[:,:,:,0].reshape(3,3)\n"
   ]
  },
  {
   "cell_type": "code",
   "execution_count": 10,
   "id": "60733b77",
   "metadata": {
    "scrolled": false
   },
   "outputs": [
    {
     "data": {
      "image/png": "[encoded data removed]",
      "text/plain": [
       "<Figure size 432x288 with 1 Axes>"
      ]
     },
     "metadata": {
      "needs_background": "light"
     },
     "output_type": "display_data"
    },
    {
     "data": {
      "image/png": "[encoded data removed]",
      "text/plain": [
       "<Figure size 432x288 with 1 Axes>"
      ]
     },
     "metadata": {
      "needs_background": "light"
     },
     "output_type": "display_data"
    },
    {
     "data": {
      "image/png": "[encoded data removed]",
      "text/plain": [
       "<Figure size 432x288 with 1 Axes>"
      ]
     },
     "metadata": {
      "needs_background": "light"
     },
     "output_type": "display_data"
    },
    {
     "data": {
      "image/png": "[encoded data removed]",
      "text/plain": [
       "<Figure size 432x288 with 1 Axes>"
      ]
     },
     "metadata": {
      "needs_background": "light"
     },
     "output_type": "display_data"
    },
    {
     "data": {
      "image/png": "[encoded data removed]",
      "text/plain": [
       "<Figure size 432x288 with 1 Axes>"
      ]
     },
     "metadata": {
      "needs_background": "light"
     },
     "output_type": "display_data"
    },
    {
     "data": {
      "image/png": "[encoded data removed]",
      "text/plain": [
       "<Figure size 432x288 with 1 Axes>"
      ]
     },
     "metadata": {
      "needs_background": "light"
     },
     "output_type": "display_data"
    },
    {
     "data": {
      "image/png": "[encoded data removed]",
      "text/plain": [
       "<Figure size 432x288 with 1 Axes>"
      ]
     },
     "metadata": {
      "needs_background": "light"
     },
     "output_type": "display_data"
    },
    {
     "data": {
      "image/png": "[encoded data removed]",
      "text/plain": [
       "<Figure size 432x288 with 1 Axes>"
      ]
     },
     "metadata": {
      "needs_background": "light"
     },
     "output_type": "display_data"
    },
    {
     "data": {
      "image/png": "[encoded data removed]",
      "text/plain": [
       "<Figure size 432x288 with 1 Axes>"
      ]
     },
     "metadata": {
      "needs_background": "light"
     },
     "output_type": "display_data"
    },
    {
     "data": {
      "image/png": "[encoded data removed]",
      "text/plain": [
       "<Figure size 432x288 with 1 Axes>"
      ]
     },
     "metadata": {
      "needs_background": "light"
     },
     "output_type": "display_data"
    }
   ],
   "source": [
    "%matplotlib inline\n",
    "\n",
    "for i in range(0,10):\n",
    "    plt.imshow(data[:,:,:,i].reshape(3,3))\n",
    "    plt.title(i)\n",
    "    plt.show()"
   ]
  },
  {
   "cell_type": "code",
   "execution_count": 10,
   "id": "8631b508",
   "metadata": {},
   "outputs": [
    {
     "data": {
      "text/plain": [
       "(28, 28)"
      ]
     },
     "execution_count": 10,
     "metadata": {},
     "output_type": "execute_result"
    }
   ],
   "source": [
    "X_test[0].shape"
   ]
  },
  {
   "cell_type": "code",
   "execution_count": 11,
   "id": "9bf80d07",
   "metadata": {},
   "outputs": [
    {
     "name": "stdout",
     "output_type": "stream",
     "text": [
      "[[2.9040645e-11 5.1938922e-17 1.3722704e-10 2.9806057e-13 1.9180504e-10\n",
      "  1.1562782e-05 1.3519683e-12 2.2040373e-05 1.4683773e-07 9.9996626e-01]]\n"
     ]
    }
   ],
   "source": [
    "result = model.predict(X_test[0].reshape(1,28,28,1) )\n",
    "print(result)"
   ]
  },
  {
   "cell_type": "code",
   "execution_count": 12,
   "id": "4cb54946",
   "metadata": {},
   "outputs": [
    {
     "data": {
      "text/plain": [
       "(1, 10)"
      ]
     },
     "execution_count": 12,
     "metadata": {},
     "output_type": "execute_result"
    }
   ],
   "source": [
    "result.shape"
   ]
  },
  {
   "cell_type": "code",
   "execution_count": 13,
   "id": "f04dd5cf",
   "metadata": {},
   "outputs": [],
   "source": [
    "model2 = Sequential()\n",
    "\n",
    "model2.add(Conv2D(\n",
    "    10,\n",
    "    kernel_size=(3,3),\n",
    "    activation ='relu',\n",
    "    input_shape=(28,28,1),\n",
    "    weights = model.layers[0].get_weights()\n",
    "    )) "
   ]
  },
  {
   "cell_type": "code",
   "execution_count": 14,
   "id": "11661c44",
   "metadata": {},
   "outputs": [
    {
     "data": {
      "image/png": "[encoded data removed]",
      "text/plain": [
       "<Figure size 432x288 with 1 Axes>"
      ]
     },
     "metadata": {
      "needs_background": "light"
     },
     "output_type": "display_data"
    }
   ],
   "source": [
    "plt.imshow(X_test[0], cmap = 'gray_r')\n",
    "plt.show()"
   ]
  },
  {
   "cell_type": "code",
   "execution_count": 15,
   "id": "a2956889",
   "metadata": {},
   "outputs": [
    {
     "data": {
      "text/plain": [
       "(26, 26, 10)"
      ]
     },
     "execution_count": 15,
     "metadata": {},
     "output_type": "execute_result"
    }
   ],
   "source": [
    "result = model2.predict(X_test[0].reshape(1,28,28,1) )\n",
    "result.shape\n",
    "result[0].shape"
   ]
  },
  {
   "cell_type": "code",
   "execution_count": 16,
   "id": "1e0eb76c",
   "metadata": {},
   "outputs": [
    {
     "data": {
      "image/png": "[encoded data removed]",
      "text/plain": [
       "<Figure size 432x288 with 1 Axes>"
      ]
     },
     "metadata": {
      "needs_background": "light"
     },
     "output_type": "display_data"
    },
    {
     "data": {
      "image/png": "[encoded data removed]",
      "text/plain": [
       "<Figure size 432x288 with 1 Axes>"
      ]
     },
     "metadata": {
      "needs_background": "light"
     },
     "output_type": "display_data"
    },
    {
     "data": {
      "image/png": "[encoded data removed]",
      "text/plain": [
       "<Figure size 432x288 with 1 Axes>"
      ]
     },
     "metadata": {
      "needs_background": "light"
     },
     "output_type": "display_data"
    },
    {
     "data": {
      "image/png": "[encoded data removed]",
      "text/plain": [
       "<Figure size 432x288 with 1 Axes>"
      ]
     },
     "metadata": {
      "needs_background": "light"
     },
     "output_type": "display_data"
    },
    {
     "data": {
      "image/png": "[encoded data removed]",
      "text/plain": [
       "<Figure size 432x288 with 1 Axes>"
      ]
     },
     "metadata": {
      "needs_background": "light"
     },
     "output_type": "display_data"
    },
    {
     "data": {
      "image/png": "[encoded data removed]",
      "text/plain": [
       "<Figure size 432x288 with 1 Axes>"
      ]
     },
     "metadata": {
      "needs_background": "light"
     },
     "output_type": "display_data"
    },
    {
     "data": {
      "image/png": "[encoded data removed]",
      "text/plain": [
       "<Figure size 432x288 with 1 Axes>"
      ]
     },
     "metadata": {
      "needs_background": "light"
     },
     "output_type": "display_data"
    },
    {
     "data": {
      "image/png": "[encoded data removed]",
      "text/plain": [
       "<Figure size 432x288 with 1 Axes>"
      ]
     },
     "metadata": {
      "needs_background": "light"
     },
     "output_type": "display_data"
    },
    {
     "data": {
      "image/png": "[encoded data removed]",
      "text/plain": [
       "<Figure size 432x288 with 1 Axes>"
      ]
     },
     "metadata": {
      "needs_background": "light"
     },
     "output_type": "display_data"
    },
    {
     "data": {
      "image/png": "[encoded data removed]",
      "text/plain": [
       "<Figure size 432x288 with 1 Axes>"
      ]
     },
     "metadata": {
      "needs_background": "light"
     },
     "output_type": "display_data"
    }
   ],
   "source": [
    "for i in range(0,10):\n",
    "    plt.imshow(result[0][:,:,i])\n",
    "    plt.title(i)\n",
    "    plt.show()"
   ]
  },
  {
   "cell_type": "code",
   "execution_count": null,
   "id": "c3a7b380",
   "metadata": {},
   "outputs": [],
   "source": []
  }
 ],
 "metadata": {
  "kernelspec": {
   "display_name": "Python 3",
   "language": "python",
   "name": "python3"
  },
  "language_info": {
   "codemirror_mode": {
    "name": "ipython",
    "version": 3
   },
   "file_extension": ".py",
   "mimetype": "text/x-python",
   "name": "python",
   "nbconvert_exporter": "python",
   "pygments_lexer": "ipython3",
   "version": "3.8.8"
  }
 },
 "nbformat": 4,
 "nbformat_minor": 5
}
